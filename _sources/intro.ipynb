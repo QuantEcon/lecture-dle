{
 "cells": [
  {
   "cell_type": "markdown",
   "id": "e8e7ebdf",
   "metadata": {},
   "source": [
    "# Dynamic Linear Economies\n",
    "\n",
    "This website presents a set of lectures on dynamic linear economies and tools needed for this this class of economic models.\n",
    "\n",
    "```{tableofcontents}\n",
    "```"
   ]
  }
 ],
 "metadata": {
  "jupytext": {
   "text_representation": {
    "extension": ".md",
    "format_name": "myst"
   }
  },
  "kernelspec": {
   "display_name": "Python 3",
   "language": "python",
   "name": "python3"
  },
  "source_map": [
   10
  ]
 },
 "nbformat": 4,
 "nbformat_minor": 5
}